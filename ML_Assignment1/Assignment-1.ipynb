{
 "cells": [
  {
   "cell_type": "markdown",
   "metadata": {
    "collapsed": true
   },
   "source": [
    "# Assignment 1 Hardik Galiawala (B00777450)"
   ]
  },
  {
   "cell_type": "code",
   "execution_count": 2,
   "metadata": {},
   "outputs": [
    {
     "name": "stderr",
     "output_type": "stream",
     "text": [
      "C:\\ProgramData\\Anaconda3\\lib\\site-packages\\sklearn\\cross_validation.py:44: DeprecationWarning: This module was deprecated in version 0.18 in favor of the model_selection module into which all the refactored classes and functions are moved. Also note that the interface of the new CV iterators are different from that of this module. This module will be removed in 0.20.\n",
      "  \"This module will be removed in 0.20.\", DeprecationWarning)\n"
     ]
    }
   ],
   "source": [
    "import pandas as pd\n",
    "import numpy as np\n",
    "import seaborn as sns\n",
    "import math \n",
    "from sklearn import datasets\n",
    "from sklearn import metrics\n",
    "from sklearn.cross_validation import cross_val_score\n",
    "from sklearn.ensemble import RandomForestClassifier\n",
    "from sklearn.svm import SVC\n",
    "from sklearn.utils import shuffle\n",
    "from tensorflow.examples.tutorials.mnist import input_data\n",
    "from matplotlib import pyplot as plt"
   ]
  },
  {
   "cell_type": "markdown",
   "metadata": {},
   "source": [
    "### Question - 1 Display few images from the given MNIST data-set. The function que1() has a parameter no_of_imgs which allows user to display the number of images he/she wants to see. By default it will show 1 image."
   ]
  },
  {
   "cell_type": "code",
   "execution_count": 6,
   "metadata": {},
   "outputs": [
    {
     "name": "stdout",
     "output_type": "stream",
     "text": [
      "Extracting MNIST_data\\train-images-idx3-ubyte.gz\n",
      "Extracting MNIST_data\\train-labels-idx1-ubyte.gz\n",
      "Extracting MNIST_data\\t10k-images-idx3-ubyte.gz\n",
      "Extracting MNIST_data\\t10k-labels-idx1-ubyte.gz\n"
     ]
    },
    {
     "data": {
      "image/png": "[encoded data removed]",
      "text/plain": [
       "<matplotlib.figure.Figure at 0x21bb7448b38>"
      ]
     },
     "metadata": {},
     "output_type": "display_data"
    },
    {
     "data": {
      "image/png": "[encoded data removed]",
      "text/plain": [
       "<matplotlib.figure.Figure at 0x21bb7203cc0>"
      ]
     },
     "metadata": {},
     "output_type": "display_data"
    }
   ],
   "source": [
    "def que1(no_of_imgs = 2):\n",
    "\n",
    "    mnist = input_data.read_data_sets('MNIST_data', one_hot=True)\n",
    "    batch = mnist.train.next_batch(50)\n",
    "    \n",
    "    for i in range(no_of_imgs - 1):\n",
    "        \n",
    "        image = np.array(batch[0][i], dtype='float')\n",
    "        mat_pix = image.reshape((28, 28))\n",
    "        plt.imshow(mat_pix, cmap='gray')\n",
    "        plt.show()\n",
    "\n",
    "que1(3)"
   ]
  },
  {
   "cell_type": "markdown",
   "metadata": {},
   "source": [
    "### Question 2(a) : Explain briefly what k-fold cross validation is and what it is used for. "
   ]
  },
  {
   "cell_type": "markdown",
   "metadata": {},
   "source": [
    "2(a) :- K-fold cross validation is a technique which gives a distribution of accuracy scores of a model. The distribution totally depends on the value of k. To explain it further, we can say that if k = 5, then we divide the given data (features and target) into 5 equal parts. We take one part of the data as test set and remaining 4 parts as training set. Based on trained model, we can predict an accuracy score for the test set. We repeat this process until all the 5 parts are included once as a test set. Thus, this function will return an array of 5 (or k) accuracy scores"
   ]
  },
  {
   "cell_type": "markdown",
   "metadata": {},
   "source": [
    "### Question 2(b) : Write a script that does a k-fold cross-validation without using the cross_val_score function and compares the results with the sklearn function. "
   ]
  },
  {
   "cell_type": "markdown",
   "metadata": {
    "collapsed": true
   },
   "source": [
    "2(b): cross_val function which we see in the next line, has almost same functionality as sklearn.cross_validation.cross_val_score provided that cross_val method returns only the accuracy metric.\n"
   ]
  },
  {
   "cell_type": "markdown",
   "metadata": {},
   "source": [
    "Parameters explanation:"
   ]
  },
  {
   "cell_type": "markdown",
   "metadata": {},
   "source": [
    "model : provide a classifier (RandomForest, SVM)"
   ]
  },
  {
   "cell_type": "markdown",
   "metadata": {},
   "source": [
    "X : input features"
   ]
  },
  {
   "cell_type": "markdown",
   "metadata": {},
   "source": [
    "y : output set"
   ]
  },
  {
   "cell_type": "markdown",
   "metadata": {},
   "source": [
    "kfolds : number of folds (like \"cv\" parameter of sklearn.cross_validation import cross_val_score)"
   ]
  },
  {
   "cell_type": "markdown",
   "metadata": {},
   "source": [
    "### Question 2(c): Compare the cross-validated results of the SVM & RF and comment on which method is better.  "
   ]
  },
  {
   "cell_type": "markdown",
   "metadata": {},
   "source": [
    "Answer 2(c): As we observe the results in the form of accuracy score metric, we can say that SVM is better. But we must try to consider other scenarios like real life application, other metrics (e.g., recall, precision, F-score to name a few), and computation cost & time. If we consider these situations then there is a trade-off involved between any two. Thus, we must try to understand which factor is import lets say if precision is important over recall and then try to maximize it. To summarize, we can say that the cross validated accuracy score is not sufficient to comment on which model is the best."
   ]
  },
  {
   "cell_type": "code",
   "execution_count": 9,
   "metadata": {
    "collapsed": true
   },
   "outputs": [],
   "source": [
    "def cross_val(model, X, y, kfolds):\n",
    "\n",
    "    if kfolds < 2:\n",
    "        return \"Enter K-fold greater than 1\"\n",
    "    \n",
    "    else:        \n",
    "        X, y = shuffle(X, y, random_state=0)\n",
    "        start = 0\n",
    "        split=0\n",
    "        partition = int(len(y) / kfolds)\n",
    "        accuracy = []\n",
    "        \n",
    "        for i in range(1, kfolds+1):        \n",
    "            \n",
    "            split = split + partition\n",
    "            if kfolds == 1:\n",
    "                test_X = X[0:split-1]\n",
    "                test_y = y[0:split-1]\n",
    "                train_X = X[split:len(y)-1]\n",
    "                train_y = y[split:len(y)-1]\n",
    "                model.fit(train_X, train_y)\n",
    "                predicted_test = model.predict(test_X)\n",
    "                accuracy.extend([np.mean(test_y == predicted_test)])\n",
    "                        \n",
    "            else:\n",
    "                test_X =  X[start:split]\n",
    "                test_y = y[start:split]\n",
    "                train_X = np.concatenate((X[0:start-1], X[split+1: len(y)-1]), axis = 0)\n",
    "                train_y = np.concatenate((y[0:start-1], y[split+1: len(y)-1]), axis = 0)\n",
    "                model.fit(train_X, train_y)\n",
    "                predicted_test = model.predict(test_X)\n",
    "                accuracy.extend([np.mean(test_y == predicted_test)])\n",
    "                \n",
    "            start = split\n",
    "        return(accuracy)"
   ]
  },
  {
   "cell_type": "code",
   "execution_count": 10,
   "metadata": {},
   "outputs": [
    {
     "name": "stdout",
     "output_type": "stream",
     "text": [
      "Non aggregated accuracy of user defined cross validation function v/s sk learn cross valtion function\n",
      "Accuraccy score of user defined cross val function\n",
      "[1.0, 0.8666666666666667, 1.0, 1.0, 0.93333333333333335]\n",
      "Accuraccy score of sk learn cross val function\n",
      "[ 1.          0.93333333  1.          0.93333333  0.93333333  0.93333333\n",
      "  0.8         1.          1.          1.        ]\n",
      "Comparing Accuracy score between Random Forest and SVM Classification :\n",
      "Random Forest accuracy (Mean) :\n",
      "0.953333333333\n",
      "SVM Classification accuracy (Mean) :\n",
      "0.98\n"
     ]
    }
   ],
   "source": [
    "def que2():\n",
    "    iris = datasets.load_iris() \n",
    "    X = iris.data\n",
    "    target = iris.target \n",
    "    names = iris.target_names\n",
    "    acc_rf = cross_val(RandomForestClassifier(n_estimators = 20), X, target, 5)\n",
    "    acc_svm = cross_val(SVC(), X, target, 5)\n",
    "    # skLearn function from cross validation accuracy score\n",
    "    sk_learn_cross_val_rf = cross_val_score(RandomForestClassifier(n_estimators = 20), X, target, cv = 10, scoring = 'accuracy')\n",
    "    sk_learn_cross_val_svc = cross_val_score(SVC(), X, target, cv = 10, scoring = 'accuracy')\n",
    "    # Answer 2-b -START\n",
    "    print(\"Non aggregated accuracy of user defined cross validation function v/s sk learn cross valtion function\")\n",
    "    print(\"Accuraccy score of user defined cross val function\")\n",
    "    print(acc_rf)\n",
    "    \n",
    "    print(\"Accuraccy score of sk learn cross val function\")\n",
    "    print(sk_learn_cross_val_rf)\n",
    "    # Answer 2-b -FINISH\n",
    "    \n",
    "    # Answer 2-c - START\n",
    "    print(\"Comparing Accuracy score between Random Forest and SVM Classification :\")\n",
    "    print(\"Random Forest accuracy (Mean) :\")\n",
    "    print(np.mean(sk_learn_cross_val_rf))\n",
    "    print(\"SVM Classification accuracy (Mean) :\")\n",
    "    print(np.mean(sk_learn_cross_val_svc))\n",
    "    # Answer 2-c FINISH\n",
    "\n",
    "que2()"
   ]
  },
  {
   "cell_type": "markdown",
   "metadata": {
    "collapsed": true
   },
   "source": [
    "### 3: Please download the wine.zip file and extract it to the directory for this assignment. Read through the wine_names.txt file and come to understand the problem and the wine data contained in the wine.train dataset. Train one of the models SVM, MLP, or RF to develop the best possible model for classifying the wine data"
   ]
  },
  {
   "cell_type": "markdown",
   "metadata": {},
   "source": [
    "Ans : As we can observe in the method que3() that the best way to solve a machine learning problem is to identify which classifier would be the best for our problem. We have used various classifiers like RandomForest, SVM and Deep Neural Networks. Also while using them we trained its respective hyper pararmeters. After doing so, we have a plot which compares the test accuracy scores from various tuned models. From the graph we conclude that Random Forest with 100 estimators is the best option for our scenario. "
   ]
  },
  {
   "cell_type": "markdown",
   "metadata": {},
   "source": [
    "Note : Random Forest (100 estimators) works fine since we have very less amount of training dataset. We would suggest to not use it in case there is good amount of data to train your model as this may overfit your model."
   ]
  },
  {
   "cell_type": "markdown",
   "metadata": {},
   "source": [
    "Grap : X-axis - Model with respective hyper parameters, Y-Axis"
   ]
  },
  {
   "cell_type": "code",
   "execution_count": 5,
   "metadata": {
    "collapsed": true
   },
   "outputs": [],
   "source": [
    "def model_fit_predict(train_x, test_x, train_y, test_y, model, model_name):\n",
    "    \n",
    "    trained_rf_model = model.fit(train_x, train_y)\n",
    "    \n",
    "    predicted_test = model.predict(test_x)\n",
    "    return metrics.accuracy_score(test_y, predicted_test)"
   ]
  },
  {
   "cell_type": "code",
   "execution_count": 17,
   "metadata": {},
   "outputs": [
    {
     "name": "stdout",
     "output_type": "stream",
     "text": [
      "INFO:tensorflow:Using default config.\n",
      "WARNING:tensorflow:Using temporary folder as model directory: C:\\Users\\hardi\\AppData\\Local\\Temp\\tmp6fyjv01c\n",
      "INFO:tensorflow:Using config: {'_task_type': None, '_task_id': 0, '_cluster_spec': <tensorflow.python.training.server_lib.ClusterSpec object at 0x000001F074E3DCF8>, '_master': '', '_num_ps_replicas': 0, '_num_worker_replicas': 0, '_environment': 'local', '_is_chief': True, '_evaluation_master': '', '_tf_config': gpu_options {\n",
      "  per_process_gpu_memory_fraction: 1\n",
      "}\n",
      ", '_tf_random_seed': None, '_save_summary_steps': 100, '_save_checkpoints_secs': 600, '_session_config': None, '_save_checkpoints_steps': None, '_keep_checkpoint_max': 5, '_keep_checkpoint_every_n_hours': 10000, '_model_dir': 'C:\\\\Users\\\\hardi\\\\AppData\\\\Local\\\\Temp\\\\tmp6fyjv01c'}\n",
      "WARNING:tensorflow:From <ipython-input-17-8a5364b290cf>:47: calling BaseEstimator.fit (from tensorflow.contrib.learn.python.learn.estimators.estimator) with x is deprecated and will be removed after 2016-12-01.\n",
      "Instructions for updating:\n",
      "Estimator is decoupled from Scikit Learn interface by moving into\n",
      "separate class SKCompat. Arguments x, y and batch_size are only\n",
      "available in the SKCompat class, Estimator will only accept input_fn.\n",
      "Example conversion:\n",
      "  est = Estimator(...) -> est = SKCompat(Estimator(...))\n"
     ]
    },
    {
     "name": "stderr",
     "output_type": "stream",
     "text": [
      "C:\\ProgramData\\Anaconda3\\lib\\site-packages\\tensorflow\\python\\util\\deprecation.py:254: FutureWarning: comparison to `None` will result in an elementwise object comparison in the future.\n",
      "  equality = a == b\n"
     ]
    },
    {
     "name": "stdout",
     "output_type": "stream",
     "text": [
      "WARNING:tensorflow:From <ipython-input-17-8a5364b290cf>:47: calling BaseEstimator.fit (from tensorflow.contrib.learn.python.learn.estimators.estimator) with y is deprecated and will be removed after 2016-12-01.\n",
      "Instructions for updating:\n",
      "Estimator is decoupled from Scikit Learn interface by moving into\n",
      "separate class SKCompat. Arguments x, y and batch_size are only\n",
      "available in the SKCompat class, Estimator will only accept input_fn.\n",
      "Example conversion:\n",
      "  est = Estimator(...) -> est = SKCompat(Estimator(...))\n",
      "WARNING:tensorflow:From <ipython-input-17-8a5364b290cf>:47: calling BaseEstimator.fit (from tensorflow.contrib.learn.python.learn.estimators.estimator) with batch_size is deprecated and will be removed after 2016-12-01.\n",
      "Instructions for updating:\n",
      "Estimator is decoupled from Scikit Learn interface by moving into\n",
      "separate class SKCompat. Arguments x, y and batch_size are only\n",
      "available in the SKCompat class, Estimator will only accept input_fn.\n",
      "Example conversion:\n",
      "  est = Estimator(...) -> est = SKCompat(Estimator(...))\n",
      "WARNING:tensorflow:float64 is not supported by many models, consider casting to float32.\n",
      "WARNING:tensorflow:From C:\\ProgramData\\Anaconda3\\lib\\site-packages\\tensorflow\\contrib\\learn\\python\\learn\\estimators\\head.py:625: scalar_summary (from tensorflow.python.ops.logging_ops) is deprecated and will be removed after 2016-11-30.\n",
      "Instructions for updating:\n",
      "Please switch to tf.summary.scalar. Note that tf.summary.scalar uses the node name instead of the tag. This means that TensorFlow will automatically de-duplicate summary names based on the scope they are created in. Also, passing a tensor or list of tags to a scalar summary op is no longer supported.\n",
      "INFO:tensorflow:Create CheckpointSaverHook.\n",
      "INFO:tensorflow:Saving checkpoints for 1 into C:\\Users\\hardi\\AppData\\Local\\Temp\\tmp6fyjv01c\\model.ckpt.\n",
      "INFO:tensorflow:loss = 3.44087, step = 1\n",
      "INFO:tensorflow:global_step/sec: 492.235\n",
      "INFO:tensorflow:loss = 0.631776, step = 101 (0.188 sec)\n",
      "INFO:tensorflow:Saving checkpoints for 200 into C:\\Users\\hardi\\AppData\\Local\\Temp\\tmp6fyjv01c\\model.ckpt.\n",
      "INFO:tensorflow:Loss for final step: 0.483739.\n",
      "WARNING:tensorflow:From C:\\ProgramData\\Anaconda3\\lib\\site-packages\\tensorflow\\python\\util\\deprecation.py:347: calling DNNClassifier.predict (from tensorflow.contrib.learn.python.learn.estimators.dnn) with outputs=None is deprecated and will be removed after 2017-03-01.\n",
      "Instructions for updating:\n",
      "Please switch to predict_classes, or set `outputs` argument.\n",
      "WARNING:tensorflow:From C:\\ProgramData\\Anaconda3\\lib\\site-packages\\tensorflow\\contrib\\learn\\python\\learn\\estimators\\dnn.py:433: calling BaseEstimator.predict (from tensorflow.contrib.learn.python.learn.estimators.estimator) with x is deprecated and will be removed after 2016-12-01.\n",
      "Instructions for updating:\n",
      "Estimator is decoupled from Scikit Learn interface by moving into\n",
      "separate class SKCompat. Arguments x, y and batch_size are only\n",
      "available in the SKCompat class, Estimator will only accept input_fn.\n",
      "Example conversion:\n",
      "  est = Estimator(...) -> est = SKCompat(Estimator(...))\n",
      "WARNING:tensorflow:float64 is not supported by many models, consider casting to float32.\n",
      "INFO:tensorflow:Restoring parameters from C:\\Users\\hardi\\AppData\\Local\\Temp\\tmp6fyjv01c\\model.ckpt-200\n"
     ]
    },
    {
     "data": {
      "image/png": "[encoded data removed]",
      "text/plain": [
       "<matplotlib.figure.Figure at 0x1f074d89e10>"
      ]
     },
     "metadata": {},
     "output_type": "display_data"
    }
   ],
   "source": [
    "def que3():\n",
    "    # Library Imports\n",
    "    from sklearn.ensemble import RandomForestClassifier\n",
    "    from sklearn import metrics\n",
    "    from sklearn.cross_validation import train_test_split\n",
    "    from sklearn.model_selection import validation_curve\n",
    "    import tensorflow as tf\n",
    "    from tensorflow.contrib import learn\n",
    "    \n",
    "    # Reading data from the csv file into a pandas data frame\n",
    "    df_wine = pd.read_csv(\"winetrain.csv\", header=None)\n",
    "    narr_wine = df_wine.values\n",
    "    \n",
    "    # Converting it to n-Dimensional array\n",
    "    features = np.array(narr_wine[:,1:12])\n",
    "    target_class = np.array(narr_wine[:, 0])\n",
    "    \n",
    "    # Data type conversion for the target variable\n",
    "    target_class = np.int32(target_class)\n",
    "    \n",
    "    # Shuffle data as it\n",
    "    features, target_class = shuffle(features, target_class, random_state = 0)\n",
    "    train_x, test_x, train_y, test_y = train_test_split(features, target_class, train_size=0.6)\n",
    "    \n",
    "    \n",
    "    model_name = ['RF-10', 'RF-20', 'RF-50', 'RF-100', 'SVC-.001', 'SVC-.01', 'SVC-.1', 'SVC-1', 'SVC-1.1', 'DNN-200']\n",
    "    accuracy_score  = []\n",
    "    \n",
    "    # Random Forest with varied estimators\n",
    "    accuracy_score.append(model_fit_predict(train_x, test_x, train_y, test_y, RandomForestClassifier(n_estimators = 10, random_state = 0), \"Random Forest(Estimators = 10)\"))\n",
    "    accuracy_score.append(model_fit_predict(train_x, test_x, train_y, test_y, RandomForestClassifier(n_estimators = 20, random_state = 0), \"Random Forest(Estimators = 20)\"))\n",
    "    accuracy_score.append(model_fit_predict(train_x, test_x, train_y, test_y, RandomForestClassifier(n_estimators = 50, random_state = 0), \"Random Forest(Estimators = 50)\"))\n",
    "    accuracy_score.append(model_fit_predict(train_x, test_x, train_y, test_y, RandomForestClassifier(n_estimators = 100, random_state = 0), \"Random Forest(Estimators = 100)\"))\n",
    "    \n",
    "    # SVC with varied C values    \n",
    "    accuracy_score.append(model_fit_predict(train_x, test_x, train_y, test_y, SVC(kernel='linear', C = 0.001, random_state = 0), \"SVC- C = 0.001\"))\n",
    "    accuracy_score.append(model_fit_predict(train_x, test_x, train_y, test_y, SVC(kernel='linear', C = 0.01, random_state = 0), \"SVC- C = 0.01\"))\n",
    "    accuracy_score.append(model_fit_predict(train_x, test_x, train_y, test_y, SVC(kernel='linear', C = 0.1, random_state = 0), \"SVC- C = 0.1\"))\n",
    "    accuracy_score.append(model_fit_predict(train_x, test_x, train_y, test_y, SVC(kernel='linear', C = 1, random_state = 0), \"SVC- C = 1\"))\n",
    "    accuracy_score.append(model_fit_predict(train_x, test_x, train_y, test_y, SVC(kernel='linear', C = 1.1, random_state = 0), \"SVC- C = 1.1\"))\n",
    "    \n",
    "    # DNN classifier\n",
    "    dnn_model = learn.DNNClassifier(\n",
    "            feature_columns = [tf.contrib.layers.real_valued_column(\"\", dimension = 12)],\n",
    "            hidden_units = [10, 10, 10], \n",
    "            n_classes = 4)\n",
    "    dnn_model.fit(train_x, train_y, steps = 200, batch_size = 72)\n",
    "    \n",
    "    predicted_y = list(dnn_model.predict(test_x, as_iterable = True))\n",
    "    #print(\"Percentage :\", np.mean(test_y == predicted_y))\n",
    "    accuracy_score.append(np.mean(test_y == predicted_y))\n",
    "\n",
    "    acc_model = sns.barplot(model_name, accuracy_score)\n",
    "    #rotateTickLabels(acc_model, 45, 'x')\n",
    "    plt.title(\"Test accuracy plot\")\n",
    "    sns.despine(ax = acc_model)\n",
    "    acc_model.set(xlabel='Model-hyper parameters', ylabel='Accuracy Score')\n",
    "    plt.show()\n",
    "    \n",
    "    \n",
    "    #Reading test CSV\n",
    "    df_wine_test = pd.read_csv(\"winetest.csv\", header=None)\n",
    "    narr_wine_test = df_wine_test.values\n",
    "    \n",
    "    # Converting it to n-Dimensional array\n",
    "    features_test_x = np.array(narr_wine_test[:,1:12])\n",
    "    mod = RandomForestClassifier(n_estimators = 100, random_state = 0)\n",
    "    trained_rf_100 = mod.fit(features, target_class)\n",
    "    predict_rf100_test_y = mod.predict(features_test_x)\n",
    "    \n",
    "    #test_data = np.concatenate((features_test_x, predict_rf50_test_y), axis = 1)\n",
    "    #print(predict_rf100_test_y)\n",
    "    np.savetxt('wineTest(Predicted).csv', predict_rf100_test_y,delimiter=',')\n",
    "    \n",
    "    \n",
    "que3()"
   ]
  }
 ],
 "metadata": {
  "kernelspec": {
   "display_name": "Python 3",
   "language": "python",
   "name": "python3"
  },
  "language_info": {
   "codemirror_mode": {
    "name": "ipython",
    "version": 3
   },
   "file_extension": ".py",
   "mimetype": "text/x-python",
   "name": "python",
   "nbconvert_exporter": "python",
   "pygments_lexer": "ipython3",
   "version": "3.6.1"
  }
 },
 "nbformat": 4,
 "nbformat_minor": 2
}
