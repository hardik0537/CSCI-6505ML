{
 "cells": [
  {
   "cell_type": "markdown",
   "metadata": {
    "collapsed": true
   },
   "source": [
    "# Assignment 4 – Multilayer Perceptron."
   ]
  },
  {
   "cell_type": "markdown",
   "metadata": {},
   "source": [
    "## Hardik Galiawala (B00777450)"
   ]
  },
  {
   "cell_type": "markdown",
   "metadata": {},
   "source": [
    "1. **[20 marks, 15 marks for Grads]** Implement a multi-layer perceptron (MLP) by modifying the MLP program from the class to solve the XOR problem and train it to translate the digital letters given in file pattern1 into the corresponding ASCII representation. In the file, each letter of the alphabet is represented by a matrix of 12x13 binary values so that each consecutive 12 rows represent one letter. Plot a training curve and interpret your results."
   ]
  },
  {
   "cell_type": "code",
   "execution_count": 2,
   "metadata": {
    "collapsed": true
   },
   "outputs": [],
   "source": [
    "import numpy as np\n",
    "import matplotlib.pyplot as plt\n",
    "from scipy.stats import bernoulli as bn"
   ]
  },
  {
   "cell_type": "markdown",
   "metadata": {},
   "source": [
    "Implementation of Multi Layer Perceptron (MLP) as done in class for XOR problem to solve the problem given in \"pattern1.txt\"."
   ]
  },
  {
   "cell_type": "code",
   "execution_count": 3,
   "metadata": {
    "collapsed": true
   },
   "outputs": [],
   "source": [
    "def neural_net_fit(X_train, Y_train, hidden_nodes = 26, no_of_iterations = 1000, learning_rate = 0.1, no_of_op_nodes = 7):   \n",
    "    \n",
    "    Ni = X_train.shape[0]; Nh1 = hidden_nodes; No = no_of_op_nodes\n",
    "    wh1 = np.random.randn(Nh1, Ni); dwh1 = np.zeros(wh1.shape)\n",
    "    wo = np.random.randn(No, Nh1); dwo = np.zeros(wo.shape)\n",
    "    error = np.array([])\n",
    "    Ntrials = no_of_iterations\n",
    "    \n",
    "    for trial in range(Ntrials):\n",
    "        h1 = 1 / (1 + np.exp(-wh1 @ X_train)) # Hidden Layer 1\n",
    "        y = 1 / (1 + np.exp(-wo@h1)) # Output for all patterns\n",
    "        y= y.T\n",
    "        \n",
    "        do = y * (1 - y) * (Y_train - y) # Delta output\n",
    "        dh1 = h1 * (1 - h1) * (wo.transpose() @ do.T) # Delta backpropagated to h1    \n",
    "        \n",
    "        # update weights with momentum\n",
    "        # Output layer\n",
    "        dwo = 0.9 * dwo + do.T @ h1.T\n",
    "        wo = wo + learning_rate * dwo\n",
    "        # Hidden layer\n",
    "        dwh1 = 0.9 * dwh1 + dh1 @ X_train.T\n",
    "        wh1 = wh1 + learning_rate * dwh1\n",
    "        \n",
    "        # Calculating delta term \n",
    "        error = np.append(error, np.sum(abs(Y_train - y)))\n",
    "        \n",
    "    return(error, y, wo, wh1)"
   ]
  },
  {
   "cell_type": "code",
   "execution_count": 4,
   "metadata": {
    "collapsed": true
   },
   "outputs": [],
   "source": [
    "def neural_net_predict(X_train, wo, wh1, Y_train):\n",
    "    \n",
    "    h1 = 1 / (1 + np.exp(-wh1 @ X_train)) # Hidden Layer 1\n",
    "    y = 1 / (1 + np.exp(-wo @ h1)) # Output for all patterns\n",
    "    y = y.T\n",
    "    count = 0\n",
    "    for i in range(len(y)):\n",
    "        binary_string_predicted = \"\"\n",
    "        binary_string_train = \"\"\n",
    "        Y_train_round = np.around(Y_train[i, :]).astype(int).ravel()\n",
    "        Y_pred_round = np.around(y[i, :]).astype(int).ravel()\n",
    "        for j in Y_pred_round:\n",
    "            binary_string_predicted += str(j)\n",
    "        for k in Y_train_round:\n",
    "            binary_string_train += str(k)\n",
    "        if (binary_string_train == binary_string_predicted):\n",
    "            count += 1\n",
    "        print(chr(int(binary_string_train, base=2)), chr(int(binary_string_predicted, base=2)))\n",
    "    \n",
    "    print(\"Training Accuracy: \", count/Y_train.shape[0] * 100)\n",
    "    "
   ]
  },
  {
   "cell_type": "markdown",
   "metadata": {},
   "source": [
    "After tuning hidden_nodes parameter, we come to a conclusion that 20 number of hidden nodes gives us the best result for training on noiseless data."
   ]
  },
  {
   "cell_type": "code",
   "execution_count": 55,
   "metadata": {},
   "outputs": [
    {
     "data": {
      "image/png": "[encoded data removed]",
      "text/plain": [
       "<matplotlib.figure.Figure at 0x25131a73c50>"
      ]
     },
     "metadata": {},
     "output_type": "display_data"
    },
    {
     "name": "stdout",
     "output_type": "stream",
     "text": [
      "A A\n",
      "B B\n",
      "C C\n",
      "D D\n",
      "E E\n",
      "F F\n",
      "G G\n",
      "H H\n",
      "I I\n",
      "J J\n",
      "K K\n",
      "L L\n",
      "M M\n",
      "N N\n",
      "O O\n",
      "P P\n",
      "Q Q\n",
      "R R\n",
      "S S\n",
      "T T\n",
      "U U\n",
      "V V\n",
      "W W\n",
      "X X\n",
      "Y Y\n",
      "Z Z\n",
      "Training Accuracy:  100.0\n"
     ]
    }
   ],
   "source": [
    "def question_1():\n",
    "    X = np.array(np.loadtxt('pattern1.txt'))#.astype(int)\n",
    "    Y_train = np.array([])\n",
    "    X_train = X.reshape(156,26)\n",
    "    for ascii_value in range(65,91):\n",
    "        binary_value = str(\"{0:b}\".format(ascii_value))\n",
    "        for alpha_bin in binary_value:\n",
    "            Y_train = np.append(Y_train, int(alpha_bin))\n",
    "    Y_train = Y_train.reshape(26, 7)\n",
    "    error, y, wo, wh1 = neural_net_fit(X_train, Y_train)\n",
    "    plt.plot(error)\n",
    "    plt.show()\n",
    "    neural_net_predict(X_train, wo, wh1, Y_train)\n",
    "    \n",
    "question_1()"
   ]
  },
  {
   "cell_type": "markdown",
   "metadata": {},
   "source": [
    "From the above graph we can see that we trained our model with 1000 iterations, hidden nodes as 20 and learning rate as 0.1. We observe that after a few hundred iterations the error is gradually reduced to zero. This gives us training accuracy as 100 percent(or 1.0)"
   ]
  },
  {
   "cell_type": "markdown",
   "metadata": {},
   "source": [
    "2 **[20 marks, 10 marks for Grads]** Investigate how much noise the MLP can tolerate in the pattern before being unable to recognize a letter. Explain your implementation of noise and report your results."
   ]
  },
  {
   "cell_type": "code",
   "execution_count": 9,
   "metadata": {
    "collapsed": true
   },
   "outputs": [],
   "source": [
    "def add_noise_bernoulli(X_train, percent_noise):\n",
    "    \n",
    "    \n",
    "    p_noise = (100 - percent_noise) / 100\n",
    "    np.random.seed(10)\n",
    "    flag = bn.rvs(p = p_noise, size = X_train.shape)\n",
    "    #random_numbers = np.random.randn(X_train.shape[0], X_train.shape[1])\n",
    "    random_numbers = np.random.randint(0, 9, size = X_train.shape)\n",
    "    X_train[flag == 0] = random_numbers[flag == 0]\n",
    "    return(X_train)"
   ]
  },
  {
   "cell_type": "markdown",
   "metadata": {
    "collapsed": true
   },
   "source": [
    "Above function returns an array X_train after adding noise to it. We are using Bernoulli's noise addition method rvs()to create a same array of size X_train. rvs() has a parameter \"p\" which handles the amount of noise added. This parameter should be in range 0 to 1. This newly created array \"flag\" has randomly assigned 0 and 1 values based on the parameter \"p\". Then we insert random integers between 0 to 5 at the index of original array \"X_train\" instead of 0s in the flag array."
   ]
  },
  {
   "cell_type": "code",
   "execution_count": null,
   "metadata": {
    "collapsed": true
   },
   "outputs": [],
   "source": [
    "def predict_char(y, Y_train):\n",
    "    count = 0\n",
    "    for i in range(len(y)):\n",
    "        binary_string_predicted = \"\"\n",
    "        binary_string_train = \"\"\n",
    "        Y_train_round = np.around(Y_train[i, :]).astype(int).ravel()\n",
    "        Y_pred_round = np.around(y[i, :]).astype(int).ravel()\n",
    "        for j in Y_pred_round:\n",
    "            binary_string_predicted += str(j)\n",
    "        for k in Y_train_round:\n",
    "            binary_string_train += str(k)\n",
    "        if (binary_string_train == binary_string_predicted):\n",
    "            count += 1\n",
    "        else:\n",
    "            count += 0\n",
    "        print(chr(int(binary_string_predicted, base=2)))\n",
    "    \n",
    "    print(\"Training Accuracy: \", count/0.26)\n",
    "    "
   ]
  },
  {
   "cell_type": "markdown",
   "metadata": {},
   "source": [
    "predict_char(y) function prints characters after converting them from binary values. We have created this function to compare alphabets from Y_train."
   ]
  },
  {
   "cell_type": "markdown",
   "metadata": {
    "collapsed": true
   },
   "source": [
    "We add 20% noise and then train our model and observe the results."
   ]
  },
  {
   "cell_type": "code",
   "execution_count": 34,
   "metadata": {},
   "outputs": [
    {
     "name": "stdout",
     "output_type": "stream",
     "text": [
      "Alphabet set from the trained model: \n",
      "A A\n",
      "B B\n",
      "C C\n",
      "D D\n",
      "E E\n",
      "F F\n",
      "G G\n",
      "H H\n",
      "I I\n",
      "J J\n",
      "K K\n",
      "L L\n",
      "M M\n",
      "N O\n",
      "O O\n",
      "P P\n",
      "Q Q\n",
      "R R\n",
      "S S\n",
      "T T\n",
      "U U\n",
      "V V\n",
      "W W\n",
      "X X\n",
      "Y Y\n",
      "Z Z\n",
      "Training Accuracy:  96.15384615384616\n"
     ]
    },
    {
     "data": {
      "image/png": "[encoded data removed]",
      "text/plain": [
       "<matplotlib.figure.Figure at 0x251317ae710>"
      ]
     },
     "metadata": {},
     "output_type": "display_data"
    }
   ],
   "source": [
    "def question_2_noise_20():\n",
    "    X_train_noise = add_noise_bernoulli(X_train, 20)\n",
    "    error, y, wo, wh1 = neural_net_fit(X_train, Y_train)\n",
    "    print(\"Alphabet set from the trained model: \")\n",
    "    neural_net_predict(X_train_noise, wo, wh1, Y_train)     \n",
    "    plt.plot(error)\n",
    "    plt.show()\n",
    "    \n",
    "question_2_noise_20()"
   ]
  },
  {
   "cell_type": "markdown",
   "metadata": {},
   "source": [
    "From the above result, we understand that the network starts predicting wrong alphabets at 20% of noise."
   ]
  },
  {
   "cell_type": "markdown",
   "metadata": {},
   "source": [
    "Furthermore, we add 25% noise and then train our model and observe the results."
   ]
  },
  {
   "cell_type": "code",
   "execution_count": 49,
   "metadata": {},
   "outputs": [
    {
     "name": "stdout",
     "output_type": "stream",
     "text": [
      "Alphabet set from the trained model: \n",
      "A A\n",
      "B B\n",
      "C C\n",
      "D D\n",
      "E E\n",
      "F F\n",
      "G G\n",
      "H H\n",
      "I I\n",
      "J J\n",
      "K K\n",
      "L M\n",
      "M M\n",
      "N N\n",
      "O O\n",
      "P P\n",
      "Q Q\n",
      "R R\n",
      "S S\n",
      "T T\n",
      "U U\n",
      "V V\n",
      "W W\n",
      "X X\n",
      "Y Y\n",
      "Z [\n",
      "Training Accuracy:  92.3076923076923\n"
     ]
    },
    {
     "data": {
      "image/png": "[encoded data removed]",
      "text/plain": [
       "<matplotlib.figure.Figure at 0x25131aeb9e8>"
      ]
     },
     "metadata": {},
     "output_type": "display_data"
    }
   ],
   "source": [
    "def question_2_noise_25():\n",
    "    X_train_noise = add_noise_bernoulli(X_train, 25)\n",
    "    error, y, wo, wh1 = neural_net_fit(X_train, Y_train)\n",
    "    print(\"Alphabet set from the trained model: \")\n",
    "    neural_net_predict(X_train_noise, wo, wh1, Y_train)     \n",
    "    plt.plot(error)\n",
    "    plt.show()\n",
    "    \n",
    "question_2_noise_25()"
   ]
  },
  {
   "cell_type": "markdown",
   "metadata": {},
   "source": [
    "We add 35% noise and then train our model and observe the results."
   ]
  },
  {
   "cell_type": "code",
   "execution_count": 36,
   "metadata": {},
   "outputs": [
    {
     "name": "stdout",
     "output_type": "stream",
     "text": [
      "Alphabet set from the trained model: \n",
      "A H\n",
      "B B\n",
      "C K\n",
      "D D\n",
      "E E\n",
      "F F\n",
      "G E\n",
      "H H\n",
      "I I\n",
      "J H\n",
      "K K\n",
      "L H\n",
      "M M\n",
      "N N\n",
      "O K\n",
      "P Q\n",
      "Q Q\n",
      "R S\n",
      "S S\n",
      "T T\n",
      "U ]\n",
      "V V\n",
      "W W\n",
      "X H\n",
      "Y Y\n",
      "Z Z\n",
      "Training Accuracy:  61.53846153846154\n"
     ]
    },
    {
     "data": {
      "image/png": "[encoded data removed]",
      "text/plain": [
       "<matplotlib.figure.Figure at 0x25130521cf8>"
      ]
     },
     "metadata": {},
     "output_type": "display_data"
    }
   ],
   "source": [
    "def question_2_noise_35():\n",
    "    X_train_noise = add_noise_bernoulli(X_train, 35)\n",
    "    error, y, wo, wh1 = neural_net_fit(X_train, Y_train)\n",
    "    print(\"Alphabet set from the trained model: \")\n",
    "    neural_net_predict(X_train_noise, wo, wh1, Y_train)     \n",
    "    plt.plot(error)\n",
    "    plt.show()\n",
    "    \n",
    "question_2_noise_35()"
   ]
  },
  {
   "cell_type": "markdown",
   "metadata": {},
   "source": [
    "We have visualized above observations in the graph below."
   ]
  },
  {
   "cell_type": "code",
   "execution_count": 57,
   "metadata": {},
   "outputs": [
    {
     "data": {
      "image/png": "[encoded data removed]",
      "text/plain": [
       "<matplotlib.figure.Figure at 0x25131b77e10>"
      ]
     },
     "metadata": {},
     "output_type": "display_data"
    }
   ],
   "source": [
    "plt.plot([0, 20, 25, 35],[1.0, 0.96, 0.92, 0.61])\n",
    "plt.xlabel('Noise')\n",
    "plt.ylabel('Accuracy')\n",
    "plt.show()"
   ]
  },
  {
   "cell_type": "markdown",
   "metadata": {},
   "source": [
    "Thus, we can see that if we keep on increasing the noise, the training accuracy keeps on decreasing. Thus noise is inversely proportional to the training accuracy. Also, the addition of noise makes it difficult for network to predict correct alphabets as we can see from the above printed list."
   ]
  },
  {
   "cell_type": "markdown",
   "metadata": {},
   "source": [
    "3.**[10 marks, 5 marks for Grads]** Which letter is represented in file pattern2?"
   ]
  },
  {
   "cell_type": "markdown",
   "metadata": {},
   "source": [
    "While predicting the alphabet from the pattern2.txt file, it was observed that the network is predicting different alphabet everytime. So we try to fit the model and predict the alphabet 100 times and then take out the alphabet which has maximum frequency of prediction. Also, it is worth noting that we have used 100 hidden nodes as it is helpful in predicting noisy data (conclusion of 4th question). "
   ]
  },
  {
   "cell_type": "code",
   "execution_count": 37,
   "metadata": {
    "collapsed": true
   },
   "outputs": [],
   "source": [
    "def nn_predict(y, wo, wh1):\n",
    "    y = y.reshape(1, 156)\n",
    "    pred_value = 1 / (1 + np.exp(-y @ wh1.T)) # Hidden Layer 1\n",
    "    pred_value_2 = 1 / (1 + np.exp(-pred_value @ wo.T))\n",
    "    \n",
    "    return(pred_value_2)"
   ]
  },
  {
   "cell_type": "code",
   "execution_count": 38,
   "metadata": {
    "collapsed": true
   },
   "outputs": [],
   "source": [
    "Y_pred = np.array(np.loadtxt('pattern2.txt'))"
   ]
  },
  {
   "cell_type": "code",
   "execution_count": 52,
   "metadata": {},
   "outputs": [
    {
     "name": "stdout",
     "output_type": "stream",
     "text": [
      "The letter in the file pattern2.txt is: \n",
      "H\n"
     ]
    }
   ],
   "source": [
    "char_list = []\n",
    "for i in range(100):\n",
    "\n",
    "    error, y, wo, wh1 = neural_net_fit(X_train, Y_train, hidden_nodes = 100)\n",
    "    y_predicted = nn_predict(Y_pred, wo, wh1)    \n",
    "    Y_pred_round = np.around(y_predicted).astype(int).ravel()\n",
    "    binary_string = \"\"\n",
    "    for j in Y_pred_round:\n",
    "        binary_string += str(j)\n",
    "    char_list.append(chr(int(binary_string, base=2)))\n",
    "    \n",
    "\n",
    "print(\"The letter in the file pattern2.txt is: \")\n",
    "print(max(set(char_list), key=char_list.count))\n",
    "\n",
    "    "
   ]
  },
  {
   "cell_type": "markdown",
   "metadata": {
    "collapsed": true
   },
   "source": [
    "4.**Grad Students only [20 marks]** Investigate the network performance when training on noisy patterns. Also, how does the number of hidden nodes influence the performance?"
   ]
  },
  {
   "cell_type": "markdown",
   "metadata": {},
   "source": [
    "We have added some noise to X_train which is then used to fit the neural network with variable hidden nodes. "
   ]
  },
  {
   "cell_type": "markdown",
   "metadata": {},
   "source": [
    "For 20 hidden nodes: -"
   ]
  },
  {
   "cell_type": "code",
   "execution_count": 43,
   "metadata": {},
   "outputs": [
    {
     "name": "stdout",
     "output_type": "stream",
     "text": [
      "Alphabet set from the trained model: \n",
      "A A\n",
      "B B\n",
      "C C\n",
      "D D\n",
      "E M\n",
      "F F\n",
      "G G\n",
      "H H\n",
      "I I\n",
      "J B\n",
      "K K\n",
      "L L\n",
      "M M\n",
      "N N\n",
      "O O\n",
      "P P\n",
      "Q Q\n",
      "R R\n",
      "S S\n",
      "T T\n",
      "U U\n",
      "V V\n",
      "W W\n",
      "X X\n",
      "Y Y\n",
      "Z X\n",
      "Training Accuracy:  88.46153846153845\n"
     ]
    },
    {
     "data": {
      "image/png": "[encoded data removed]",
      "text/plain": [
       "<matplotlib.figure.Figure at 0x25131b68da0>"
      ]
     },
     "metadata": {},
     "output_type": "display_data"
    }
   ],
   "source": [
    "X = np.array(np.loadtxt('pattern1.txt'))#.astype(int)\n",
    "X_train = X.reshape(156,26)\n",
    "\n",
    "Y_train = np.array([])\n",
    "for ascii_value in range(65,91):\n",
    "    binary_value = str(\"{0:b}\".format(ascii_value))\n",
    "    for alpha_bin in binary_value:\n",
    "        Y_train = np.append(Y_train, int(alpha_bin))\n",
    "Y_train = Y_train.reshape(26, 7)\n",
    "X_train_2 = add_noise_bernoulli(X_train, 35)\n",
    "error, y, wo, wh1 = neural_net_fit(X_train, Y_train, hidden_nodes = 20)\n",
    "print(\"Alphabet set from the trained model: \")\n",
    "neural_net_predict(X_train_2, wo, wh1, Y_train)\n",
    "plt.plot(error)\n",
    "plt.show()"
   ]
  },
  {
   "cell_type": "markdown",
   "metadata": {
    "collapsed": true
   },
   "source": [
    "For 100 hidden nodes: -"
   ]
  },
  {
   "cell_type": "code",
   "execution_count": 19,
   "metadata": {},
   "outputs": [
    {
     "name": "stdout",
     "output_type": "stream",
     "text": [
      "Alphabet set from the trained model: \n",
      "A A\n",
      "B B\n",
      "C C\n",
      "D D\n",
      "E E\n",
      "F F\n",
      "G G\n",
      "H H\n",
      "I I\n",
      "J J\n",
      "K K\n",
      "L L\n",
      "M M\n",
      "N N\n",
      "O O\n",
      "P P\n",
      "Q Q\n",
      "R R\n",
      "S S\n",
      "T T\n",
      "U W\n",
      "V V\n",
      "W W\n",
      "X X\n",
      "Y Y\n",
      "Z Z\n",
      "Training Accuracy:  96.15384615384616\n"
     ]
    },
    {
     "data": {
      "image/png": "[encoded data removed]",
      "text/plain": [
       "<matplotlib.figure.Figure at 0x251302d8320>"
      ]
     },
     "metadata": {},
     "output_type": "display_data"
    }
   ],
   "source": [
    "X = np.array(np.loadtxt('pattern1.txt'))#.astype(int)\n",
    "X_train = X.reshape(156,26)\n",
    "\n",
    "Y_train = np.array([])\n",
    "for ascii_value in range(65,91):\n",
    "    binary_value = str(\"{0:b}\".format(ascii_value))\n",
    "    for alpha_bin in binary_value:\n",
    "        Y_train = np.append(Y_train, int(alpha_bin))\n",
    "Y_train = Y_train.reshape(26, 7)\n",
    "X_train_2 = add_noise_bernoulli(X_train, 35)\n",
    "error, y, wo, wh1 = neural_net_fit(X_train_2, Y_train, hidden_nodes = 100)\n",
    "print(\"Alphabet set from the trained model: \")\n",
    "neural_net_predict(X_train_2, wo, wh1, Y_train)\n",
    "plt.plot(error)\n",
    "plt.show()"
   ]
  },
  {
   "cell_type": "markdown",
   "metadata": {
    "collapsed": true
   },
   "source": [
    "For 200 hidden nodes: -"
   ]
  },
  {
   "cell_type": "code",
   "execution_count": 18,
   "metadata": {},
   "outputs": [
    {
     "name": "stdout",
     "output_type": "stream",
     "text": [
      "Alphabet set from the trained model: \n",
      "A A\n",
      "B B\n",
      "C C\n",
      "D D\n",
      "E E\n",
      "F F\n",
      "G G\n",
      "H H\n",
      "I Y\n",
      "J J\n",
      "K K\n",
      "L L\n",
      "M M\n",
      "N N\n",
      "O O\n",
      "P P\n",
      "Q Q\n",
      "R S\n",
      "S S\n",
      "T T\n",
      "U U\n",
      "V V\n",
      "W W\n",
      "X X\n",
      "Y Y\n",
      "Z R\n",
      "Training Accuracy:  88.46153846153845\n"
     ]
    },
    {
     "data": {
      "image/png": "[encoded data removed]",
      "text/plain": [
       "<matplotlib.figure.Figure at 0x251301f4898>"
      ]
     },
     "metadata": {},
     "output_type": "display_data"
    }
   ],
   "source": [
    "X = np.array(np.loadtxt('pattern1.txt'))#.astype(int)\n",
    "X_train = X.reshape(156,26)\n",
    "\n",
    "Y_train = np.array([])\n",
    "for ascii_value in range(65,91):\n",
    "    binary_value = str(\"{0:b}\".format(ascii_value))\n",
    "    for alpha_bin in binary_value:\n",
    "        Y_train = np.append(Y_train, int(alpha_bin))\n",
    "Y_train = Y_train.reshape(26, 7)\n",
    "X_train_2 = add_noise_bernoulli(X_train, 35)\n",
    "error, y, wo, wh1 = neural_net_fit(X_train_2, Y_train, hidden_nodes = 200)\n",
    "print(\"Alphabet set from the trained model: \")\n",
    "neural_net_predict(X_train_2, wo, wh1, Y_train)\n",
    "plt.plot(error)\n",
    "plt.show()"
   ]
  },
  {
   "cell_type": "markdown",
   "metadata": {},
   "source": [
    "Based on above observations, we plot a graph of the results and it is clear how hidden nodes affects the accuracy."
   ]
  },
  {
   "cell_type": "code",
   "execution_count": 59,
   "metadata": {},
   "outputs": [
    {
     "data": {
      "image/png": "[encoded data removed]",
      "text/plain": [
       "<matplotlib.figure.Figure at 0x25131a17358>"
      ]
     },
     "metadata": {},
     "output_type": "display_data"
    }
   ],
   "source": [
    "plt.plot([20, 100, 200],[0.88, 0.96, 0.88])\n",
    "plt.xlabel('Hidden Nodes')\n",
    "plt.ylabel('Accuracy')\n",
    "plt.title('For 35% noise- Hidden Nodes v/s Accuracy')\n",
    "plt.show()"
   ]
  },
  {
   "cell_type": "markdown",
   "metadata": {},
   "source": [
    "Thus, after observing results for different number of nodes we can conclude that increasing the number of nodes to a certain extent may help in improving accuracy given noise, but once that threshold value is crossed then the accuracy starts dropping. The reason is that due to very high number of nodes we overfit the network."
   ]
  }
 ],
 "metadata": {
  "kernelspec": {
   "display_name": "Python 3",
   "language": "python",
   "name": "python3"
  },
  "language_info": {
   "codemirror_mode": {
    "name": "ipython",
    "version": 3
   },
   "file_extension": ".py",
   "mimetype": "text/x-python",
   "name": "python",
   "nbconvert_exporter": "python",
   "pygments_lexer": "ipython3",
   "version": "3.6.1"
  }
 },
 "nbformat": 4,
 "nbformat_minor": 2
}
